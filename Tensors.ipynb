{
  "nbformat": 4,
  "nbformat_minor": 0,
  "metadata": {
    "colab": {
      "provenance": []
    },
    "kernelspec": {
      "name": "python3",
      "display_name": "Python 3"
    },
    "language_info": {
      "name": "python"
    }
  },
  "cells": [
    {
      "cell_type": "markdown",
      "source": [
        "**Tensors** are nothing but a data structure. A tensor is just a way to store data (numbers) in multiple dimensions — like a general form of a number, vector, or matrix — that machine learning models (especially deep learning) use to represent and process information"
      ],
      "metadata": {
        "id": "ifFE96t2gy-l"
      }
    },
    {
      "cell_type": "markdown",
      "source": [
        "| Type       | Example                  | Dimensions | Description                               |\n",
        "| ---------- | ------------------------ | ---------- | ----------------------------------------- |\n",
        "| **Scalar** | `5`                      | 0D         | Just a single number                      |\n",
        "| **Vector** | `[1, 2, 3]`              | 1D         | A list of numbers                         |\n",
        "| **Matrix** | `[[1, 2, 3], [4, 5, 6]]` | 2D         | A table of numbers                        |\n",
        "| **Tensor** | 3D or more               | nD         | A collection of matrices stacked together |\n"
      ],
      "metadata": {
        "id": "Rbt1aRULhTXD"
      }
    },
    {
      "cell_type": "markdown",
      "source": [
        "**How we make 0D Tensors**"
      ],
      "metadata": {
        "id": "zWYbGd37hteQ"
      }
    },
    {
      "cell_type": "code",
      "execution_count": null,
      "metadata": {
        "id": "PqfOJ9CT3X6Z"
      },
      "outputs": [],
      "source": [
        "import numpy as np"
      ]
    },
    {
      "cell_type": "code",
      "source": [
        "a = np.array(5)"
      ],
      "metadata": {
        "id": "gYUsfK4b4I3e"
      },
      "execution_count": null,
      "outputs": []
    },
    {
      "cell_type": "code",
      "source": [
        "a"
      ],
      "metadata": {
        "colab": {
          "base_uri": "https://localhost:8080/"
        },
        "id": "RMArvyhl4PlB",
        "outputId": "e3073ddb-c9cd-4565-b4f9-ea73f339953f"
      },
      "execution_count": null,
      "outputs": [
        {
          "output_type": "execute_result",
          "data": {
            "text/plain": [
              "array(5)"
            ]
          },
          "metadata": {},
          "execution_count": 3
        }
      ]
    },
    {
      "cell_type": "code",
      "source": [
        "a.ndim"
      ],
      "metadata": {
        "colab": {
          "base_uri": "https://localhost:8080/"
        },
        "id": "IsRxwWwU4TEa",
        "outputId": "ab765f23-0300-4441-f1c3-2b59e50ff407"
      },
      "execution_count": null,
      "outputs": [
        {
          "output_type": "execute_result",
          "data": {
            "text/plain": [
              "0"
            ]
          },
          "metadata": {},
          "execution_count": 4
        }
      ]
    },
    {
      "cell_type": "markdown",
      "source": [
        "**How we make 1D Tensors**"
      ],
      "metadata": {
        "id": "FrjaoMcZ5zJH"
      }
    },
    {
      "cell_type": "code",
      "source": [
        "arr = np.array([1,2,3,4])"
      ],
      "metadata": {
        "id": "GStNlr1x4bOK"
      },
      "execution_count": null,
      "outputs": []
    },
    {
      "cell_type": "code",
      "source": [
        "arr"
      ],
      "metadata": {
        "colab": {
          "base_uri": "https://localhost:8080/"
        },
        "id": "mJgYu8ZH5lg4",
        "outputId": "ede2bb44-9fa9-468a-f33e-b4c0cac396d7"
      },
      "execution_count": null,
      "outputs": [
        {
          "output_type": "execute_result",
          "data": {
            "text/plain": [
              "array([1, 2, 3, 4])"
            ]
          },
          "metadata": {},
          "execution_count": 6
        }
      ]
    },
    {
      "cell_type": "code",
      "source": [
        "arr.ndim"
      ],
      "metadata": {
        "colab": {
          "base_uri": "https://localhost:8080/"
        },
        "id": "f5_FxUbD5nd-",
        "outputId": "344dbe25-1baf-40e5-f871-29dc17e26eff"
      },
      "execution_count": null,
      "outputs": [
        {
          "output_type": "execute_result",
          "data": {
            "text/plain": [
              "1"
            ]
          },
          "metadata": {},
          "execution_count": 7
        }
      ]
    },
    {
      "cell_type": "markdown",
      "source": [
        "**How we make 2D Tensors**"
      ],
      "metadata": {
        "id": "YQzM3JA07h0g"
      }
    },
    {
      "cell_type": "code",
      "source": [
        "mat = np.array([[1,2,3],[4,5,6],[7,8,9]])"
      ],
      "metadata": {
        "id": "q9ESGugT5qkV"
      },
      "execution_count": null,
      "outputs": []
    },
    {
      "cell_type": "code",
      "source": [
        "mat"
      ],
      "metadata": {
        "colab": {
          "base_uri": "https://localhost:8080/"
        },
        "id": "IbIISgHH8EUI",
        "outputId": "bcd2688a-8dab-4cf5-ec86-768803ac5070"
      },
      "execution_count": null,
      "outputs": [
        {
          "output_type": "execute_result",
          "data": {
            "text/plain": [
              "array([[1, 2, 3],\n",
              "       [4, 5, 6],\n",
              "       [7, 8, 9]])"
            ]
          },
          "metadata": {},
          "execution_count": 9
        }
      ]
    },
    {
      "cell_type": "code",
      "source": [
        "mat.ndim"
      ],
      "metadata": {
        "colab": {
          "base_uri": "https://localhost:8080/"
        },
        "id": "dU8-ib4m8Fot",
        "outputId": "053a44be-fdc8-4356-e3a2-36e076c55929"
      },
      "execution_count": null,
      "outputs": [
        {
          "output_type": "execute_result",
          "data": {
            "text/plain": [
              "2"
            ]
          },
          "metadata": {},
          "execution_count": 10
        }
      ]
    },
    {
      "cell_type": "code",
      "source": [],
      "metadata": {
        "id": "GILXaJal8JU5"
      },
      "execution_count": null,
      "outputs": []
    }
  ]
}